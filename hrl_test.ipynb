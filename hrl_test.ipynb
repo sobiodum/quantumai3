{
 "cells": [
  {
   "cell_type": "code",
   "execution_count": null,
   "metadata": {},
   "outputs": [],
   "source": [
    "import numpy as np\n",
    "import pandas as pd\n",
    "import ray\n",
    "from configs.load_specific_data import pharma_basket\n",
    "# from env.multi_agent.worker_single_stock import Worker\n",
    "# from ray.rllib.utils import check_env\n",
    "# from ray.train.rl import RLTrainer\n",
    "# from ray.air.config import RunConfig, ScalingConfig\n",
    "# from ray.rllib.algorithms.bc.bc import BC\n",
    "# from ray.rllib.algorithms import a2c\n",
    "# from ray.tune.registry import register_env\n",
    "# import gymnasium\n",
    "# ray.init(_temp_dir='/Users/floriankockler/rayresults/')\n",
    "# import warnings\n",
    "# warnings.simplefilter(action='ignore', category=Warning)\n",
    "# warnings.simplefilter(action='ignore', category=FutureWarning)\n",
    "# warnings.simplefilter(action='ignore', category=DeprecationWarning)\n",
    "# import os\n",
    "# os.environ['PYTHONWARNINGS'] = 'ignore'"
   ]
  },
  {
   "cell_type": "code",
   "execution_count": null,
   "metadata": {},
   "outputs": [],
   "source": [
    "train_df, validate_df, test_df, stock_dimension, state_space, indicators = pharma_basket()\n",
    "# train_df = train_df[train_df[\"tic\"] == \"PFE.US\"]\n",
    "# validate_df = validate_df[validate_df[\"tic\"] == \"PFE.US\"]\n"
   ]
  },
  {
   "cell_type": "code",
   "execution_count": null,
   "metadata": {},
   "outputs": [],
   "source": [
    "train_df"
   ]
  },
  {
   "cell_type": "code",
   "execution_count": null,
   "metadata": {},
   "outputs": [],
   "source": [
    "train_df.isna().any()"
   ]
  },
  {
   "cell_type": "code",
   "execution_count": null,
   "metadata": {},
   "outputs": [],
   "source": [
    "# worker_config =   {\n",
    "#         \"cash_initial\": 1000000, \n",
    "#         \"trading_cost\": 0.001, \n",
    "#         \"tech_indicator_list\": indicators,\n",
    "#         \"print_verbosity\": 1,\n",
    "#         \"initial_shares_held\": 0,\n",
    "#         \"df\": df,  }\n",
    "\n",
    "\n",
    "# env = Worker(env_config=worker_config)\n",
    "# check_env(env)"
   ]
  },
  {
   "cell_type": "code",
   "execution_count": null,
   "metadata": {},
   "outputs": [],
   "source": [
    "\n",
    "\n",
    "worker_config =   {\n",
    "        \"cash_initial\": 1000000, \n",
    "        \"trading_cost\": 0.001, \n",
    "        \"tech_indicator_list\": indicators,\n",
    "        \"print_verbosity\": 1,\n",
    "        \"initial_shares_held\": 0,\n",
    "        \"df\": train_df,  }\n",
    "\n",
    "\n",
    "env = Worker(env_config=worker_config)\n",
    "\n",
    "n_iterations = 30\n",
    "\n",
    "state = env.reset()\n",
    "\n",
    "for _ in range(n_iterations):\n",
    "\n",
    "    action = env.action_space.sample()\n",
    "\n",
    "    obs, reward, done, truncated, info= env.step(action)\n",
    "\n",
    "    # print(f\"Action: {action}, Reward: {reward}, Portfolio Value: {obs[0] + obs[1] * obs[2]}\")\n",
    "    \n",
    "    if done:\n",
    "        print(\"Episode finished!\")\n",
    "        state = env.reset()\n",
    "    else:\n",
    "        state = obs"
   ]
  },
  {
   "cell_type": "code",
   "execution_count": null,
   "metadata": {},
   "outputs": [],
   "source": []
  }
 ],
 "metadata": {
  "kernelspec": {
   "display_name": "py310",
   "language": "python",
   "name": "python3"
  },
  "language_info": {
   "codemirror_mode": {
    "name": "ipython",
    "version": 3
   },
   "file_extension": ".py",
   "mimetype": "text/x-python",
   "name": "python",
   "nbconvert_exporter": "python",
   "pygments_lexer": "ipython3",
   "version": "3.10.12"
  },
  "orig_nbformat": 4
 },
 "nbformat": 4,
 "nbformat_minor": 2
}
